{
  "cells": [
    {
      "cell_type": "code",
      "execution_count": null,
      "metadata": {
        "gather": {
          "logged": 1642098935326
        }
      },
      "outputs": [],
      "source": [
        "import azureml.core\n",
        "from azureml.core import Workspace, Environment, Experiment, Datastore, Dataset, ScriptRunConfig\n",
        "from azureml.core.compute import ComputeTarget, AmlCompute, DatabricksCompute\n",
        "from azureml.core.conda_dependencies import CondaDependencies\n",
        "from azureml.core.runconfig import RunConfiguration\n",
        "from azureml.exceptions import ComputeTargetException\n",
        "from azureml.pipeline.steps import HyperDriveStep, HyperDriveStepRun, PythonScriptStep, DatabricksStep\n",
        "from azureml.pipeline.core import Pipeline, PipelineData, TrainingOutput\n",
        "from azureml.train.hyperdrive import RandomParameterSampling, BanditPolicy, HyperDriveConfig, PrimaryMetricGoal\n",
        "from azureml.train.hyperdrive import choice, loguniform\n",
        "from azureml.data.data_reference import DataReference\n",
        "from azureml.pipeline.core import PipelineParameter\n",
        "\n",
        "import os\n",
        "import shutil\n",
        "import urllib\n",
        "import numpy as np\n",
        "import matplotlib.pyplot as plt\n",
        "\n",
        "import mlflow\n",
        "import mlflow.sklearn\n",
        "\n",
        "# Check core SDK version number\n",
        "print(\"SDK version:\", azureml.core.VERSION)\n"
      ]
    },
    {
      "cell_type": "code",
      "execution_count": null,
      "metadata": {
        "gather": {
          "logged": 1642098936632
        },
        "jupyter": {
          "outputs_hidden": false,
          "source_hidden": false
        },
        "nteract": {
          "transient": {
            "deleting": false
          }
        }
      },
      "outputs": [],
      "source": [
        "ws = Workspace.from_config()\n",
        "print(ws.name, ws.resource_group, ws.location, ws.subscription_id, sep = '\\n')"
      ]
    },
    {
      "cell_type": "code",
      "execution_count": null,
      "metadata": {
        "gather": {
          "logged": 1642098937607
        },
        "jupyter": {
          "outputs_hidden": false,
          "source_hidden": false
        },
        "nteract": {
          "transient": {
            "deleting": false
          }
        }
      },
      "outputs": [],
      "source": [
        "script_folder = './scripts'\n",
        "\n",
        "exp = Experiment(workspace=ws, name='AML_Pipeline')"
      ]
    },
    {
      "cell_type": "code",
      "execution_count": null,
      "metadata": {
        "gather": {
          "logged": 1642098940232
        },
        "jupyter": {
          "outputs_hidden": false,
          "source_hidden": false
        },
        "nteract": {
          "transient": {
            "deleting": false
          }
        }
      },
      "outputs": [],
      "source": [
        "from azureml.core.compute import ComputeTarget, AmlCompute\n",
        "from azureml.core.compute_target import ComputeTargetException\n",
        "\n",
        "cluster_name = \"cpu-cluster\"\n",
        "\n",
        "compute_target = ComputeTarget(workspace=ws, name=cluster_name)\n",
        "print(compute_target.get_status().serialize())\n"
      ]
    },
    {
      "cell_type": "code",
      "execution_count": null,
      "metadata": {
        "gather": {
          "logged": 1642098943572
        },
        "jupyter": {
          "outputs_hidden": false,
          "source_hidden": false
        },
        "nteract": {
          "transient": {
            "deleting": false
          }
        }
      },
      "outputs": [],
      "source": [
        "# Use the default blob storage\n",
        "def_blob_store = ws.get_default_datastore()\n",
        "print('Datastore {} will be used'.format(def_blob_store.name))\n"
      ]
    },
    {
      "cell_type": "code",
      "execution_count": null,
      "metadata": {},
      "outputs": [],
      "source": [
        "def register_dataset(datastore, dataset_name):\n",
        "    remote_path = f'dataset-demo/{dataset_name}/'\n",
        "    local_path = './data/titanic.csv'\n",
        "    datastore.upload_files(files = [local_path],\n",
        "                       target_path = remote_path,\n",
        "                       overwrite = True,\n",
        "                       show_progress = False)\n",
        "    \n",
        "    dataset = Dataset.Tabular.from_delimited_files(path = [(datastore, remote_path)])\n",
        "    dataset = dataset.register(ws, name=dataset_name, create_new_version=True)\n",
        "    return dataset"
      ]
    },
    {
      "cell_type": "code",
      "execution_count": null,
      "metadata": {},
      "outputs": [],
      "source": [
        "ds_titanic_raw = register_dataset(def_blob_store, 'titanic_raw')\n"
      ]
    },
    {
      "cell_type": "code",
      "execution_count": null,
      "metadata": {},
      "outputs": [],
      "source": [
        "from azureml.data import OutputFileDatasetConfig\n",
        "\n",
        "output = OutputFileDatasetConfig(name=\"titanic_processed\", \n",
        "                                 destination=(def_blob_store, \"\")).read_delimited_files().register_on_complete('titanic_processed')\n",
        "\n"
      ]
    },
    {
      "cell_type": "code",
      "execution_count": null,
      "metadata": {},
      "outputs": [],
      "source": [
        "env = Environment.get(ws, name=\"AzureML-sklearn-0.24-ubuntu18.04-py37-cpu\")"
      ]
    },
    {
      "cell_type": "code",
      "execution_count": null,
      "metadata": {},
      "outputs": [],
      "source": [
        "from azureml.core.runconfig import RunConfiguration\n",
        "from azureml.core.conda_dependencies import CondaDependencies\n",
        "\n",
        "rcfg = RunConfiguration()\n",
        "rcfg.environment = env\n",
        "\n",
        "data_prep = PythonScriptStep(script_name='data_prep.py',\n",
        "                                       source_directory=script_folder,\n",
        "                                       name=\"Data_Prep\",\n",
        "                                       compute_target=compute_target,\n",
        "                                       arguments=['--input_data', ds_titanic_raw.as_named_input('input_data'), \n",
        "                                                  '--processed_data', output],\n",
        "                                       allow_reuse=True,\n",
        "                                       runconfig=rcfg)\n"
      ]
    },
    {
      "cell_type": "code",
      "execution_count": null,
      "metadata": {
        "gather": {
          "logged": 1642099127777
        },
        "jupyter": {
          "outputs_hidden": false,
          "source_hidden": false
        },
        "nteract": {
          "transient": {
            "deleting": false
          }
        }
      },
      "outputs": [],
      "source": [
        "from azureml.core import ScriptRunConfig\n",
        "\n",
        "src = ScriptRunConfig(source_directory=script_folder,\n",
        "                      script='hyperdrive.py',\n",
        "                      arguments=['--titanic_processed', output.as_input('titanic_processed')],\n",
        "                      compute_target=compute_target,\n",
        "                      environment=env)\n"
      ]
    },
    {
      "cell_type": "code",
      "execution_count": null,
      "metadata": {
        "gather": {
          "logged": 1642099128792
        },
        "jupyter": {
          "outputs_hidden": false,
          "source_hidden": false
        },
        "nteract": {
          "transient": {
            "deleting": false
          }
        }
      },
      "outputs": [],
      "source": [
        "from azureml.train.hyperdrive.runconfig import HyperDriveConfig\n",
        "from azureml.train.hyperdrive.sampling import RandomParameterSampling\n",
        "from azureml.train.hyperdrive.run import PrimaryMetricGoal\n",
        "from azureml.train.hyperdrive.parameter_expressions import choice\n",
        "\n",
        "param_sampling = RandomParameterSampling(\n",
        "    {\n",
        "        '--solver': choice('liblinear', 'lbfgs'),\n",
        "        '--penalty': choice('l2'),\n",
        "        '--tol': choice(0.0001, 0.0002),\n",
        "        '--max_iter': choice(50, 100)\n",
        "    }\n",
        ")\n",
        "\n",
        "hyperdrive_config = HyperDriveConfig(run_config=src,\n",
        "                                     hyperparameter_sampling=param_sampling, \n",
        "                                     primary_metric_name='Accuracy',\n",
        "                                     primary_metric_goal=PrimaryMetricGoal.MAXIMIZE,\n",
        "                                     max_total_runs=2,\n",
        "                                     max_concurrent_runs=2)\n"
      ]
    },
    {
      "cell_type": "code",
      "execution_count": null,
      "metadata": {
        "gather": {
          "logged": 1642099129797
        },
        "jupyter": {
          "outputs_hidden": false,
          "source_hidden": false
        },
        "nteract": {
          "transient": {
            "deleting": false
          }
        }
      },
      "outputs": [],
      "source": [
        "metrics_output_name = 'metrics_output'\n",
        "metrics_data = PipelineData(name='metrics_data',\n",
        "                            datastore=def_blob_store,\n",
        "                            pipeline_output_name=metrics_output_name,\n",
        "                            training_output=TrainingOutput(\"Metrics\"))\n",
        "\n",
        "model_output_name = 'model_output'\n",
        "saved_model = PipelineData(name='saved_model',\n",
        "                            datastore=def_blob_store,\n",
        "                            pipeline_output_name=model_output_name,\n",
        "                            training_output=TrainingOutput(\"Model\",\n",
        "                                                           model_file=\"outputs/model/model.pkl\"))\n",
        "\n",
        "hd_step_name='hd_step01'\n",
        "hd_step = HyperDriveStep(\n",
        "    name=hd_step_name,\n",
        "    hyperdrive_config=hyperdrive_config,\n",
        "    allow_reuse=False,\n",
        "    outputs=[metrics_data, saved_model])\n"
      ]
    },
    {
      "cell_type": "code",
      "execution_count": null,
      "metadata": {
        "gather": {
          "logged": 1642099130019
        },
        "jupyter": {
          "outputs_hidden": false,
          "source_hidden": false
        },
        "nteract": {
          "transient": {
            "deleting": false
          }
        }
      },
      "outputs": [],
      "source": [
        "rcfg = RunConfiguration()\n",
        "rcfg.environment = env\n",
        "\n",
        "python_script_name = \"register_model.py\"\n",
        "\n",
        "register_model_step = PythonScriptStep(source_directory=script_folder,\n",
        "                                       script_name=python_script_name,\n",
        "                                       name=\"register_model_step\",\n",
        "                                       inputs=[metrics_data, saved_model],\n",
        "                                       compute_target=compute_target,\n",
        "                                       arguments=['--model_name', 'titanic_model'],\n",
        "                                       allow_reuse=True,\n",
        "                                       runconfig=rcfg)\n"
      ]
    },
    {
      "cell_type": "code",
      "execution_count": null,
      "metadata": {
        "gather": {
          "logged": 1642099138885
        },
        "jupyter": {
          "outputs_hidden": false,
          "source_hidden": false
        },
        "nteract": {
          "transient": {
            "deleting": false
          }
        }
      },
      "outputs": [],
      "source": [
        "steps = [register_model_step]\n",
        "pipeline = Pipeline(workspace=ws, steps=steps)\n"
      ]
    },
    {
      "cell_type": "code",
      "execution_count": null,
      "metadata": {
        "jupyter": {
          "outputs_hidden": false,
          "source_hidden": false
        },
        "nteract": {
          "transient": {
            "deleting": false
          }
        }
      },
      "outputs": [],
      "source": [
        "published_pipeline = pipeline.publish(name='pipelinepublish', description='pipelinepublish')\n"
      ]
    },
    {
      "cell_type": "code",
      "execution_count": null,
      "metadata": {},
      "outputs": [],
      "source": [
        "from azureml.pipeline.core import PipelineEndpoint\n",
        "\n",
        "pipeline_name = \"ProdEndpoint\"\n",
        "\n",
        "if [x for x in PipelineEndpoint.list(ws) if x.name == pipeline_name]:\n",
        "    pipeline_endpoint = PipelineEndpoint.get(ws, name=pipeline_name)\n",
        "    pipeline_endpoint.add_default(published_pipeline)\n",
        "else:\n",
        "    pipeline_endpoint = PipelineEndpoint.publish(workspace=ws, name=pipeline_name,\n",
        "                                             pipeline=published_pipeline, description=\"Test description Notebook\")"
      ]
    },
    {
      "cell_type": "code",
      "execution_count": null,
      "metadata": {},
      "outputs": [],
      "source": [
        "pipeline_endpoint\n"
      ]
    }
  ],
  "metadata": {
    "kernel_info": {
      "name": "python38-azureml"
    },
    "kernelspec": {
      "display_name": "Python 3.8 - AzureML",
      "language": "python",
      "name": "python38-azureml"
    },
    "language_info": {
      "codemirror_mode": {
        "name": "ipython",
        "version": 3
      },
      "file_extension": ".py",
      "mimetype": "text/x-python",
      "name": "python",
      "nbconvert_exporter": "python",
      "pygments_lexer": "ipython3",
      "version": "3.8.5"
    },
    "microsoft": {
      "host": {
        "AzureML": {
          "notebookHasBeenCompleted": true
        }
      }
    },
    "nteract": {
      "version": "nteract-front-end@1.0.0"
    }
  },
  "nbformat": 4,
  "nbformat_minor": 0
}
