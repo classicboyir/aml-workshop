{
  "cells": [
    {
      "cell_type": "code",
      "source": [
        "%matplotlib inline\r\n",
        "import numpy as np\r\n",
        "import os\r\n",
        "import matplotlib\r\n",
        "import matplotlib.pyplot as plt\r\n",
        "from azureml.widgets import RunDetails\r\n"
      ],
      "outputs": [],
      "execution_count": 7,
      "metadata": {
        "gather": {
          "logged": 1630528180461
        }
      }
    },
    {
      "cell_type": "code",
      "source": [
        "### In Databricks:\r\n",
        "\r\n",
        "# spark_dataframe.write \\\r\n",
        "#   .format(\"delta\") \\\r\n",
        "#   .option(\"overwriteSchema\", \"true\") \\\r\n",
        "#   .mode(\"overwrite\") \\\r\n",
        "#   .save(\"/mnt/<mounted_to_blobstore>/<deltatable_name>\")\r\n",
        "\r\n"
      ],
      "outputs": [],
      "execution_count": null,
      "metadata": {
        "collapsed": true,
        "jupyter": {
          "source_hidden": false,
          "outputs_hidden": false
        },
        "nteract": {
          "transient": {
            "deleting": false
          }
        }
      }
    },
    {
      "cell_type": "code",
      "source": [
        "# Check core SDK version number\r\n",
        "import azureml.core\r\n",
        "from azureml.core import Experiment\r\n",
        "\r\n",
        "print(\"SDK version:\", azureml.core.VERSION)\r\n"
      ],
      "outputs": [
        {
          "output_type": "stream",
          "name": "stdout",
          "text": [
            "SDK version: 1.22.0\n"
          ]
        }
      ],
      "execution_count": 8,
      "metadata": {
        "collapsed": true,
        "jupyter": {
          "source_hidden": false,
          "outputs_hidden": false
        },
        "nteract": {
          "transient": {
            "deleting": false
          }
        },
        "gather": {
          "logged": 1630528182703
        }
      }
    },
    {
      "cell_type": "code",
      "source": [
        "from azureml.core.workspace import Workspace\r\n",
        "\r\n",
        "ws = Workspace.from_config()\r\n",
        "# print('Workspace name: ' + ws.name, \r\n",
        "#       'Azure region: ' + ws.location, \r\n",
        "#       'Subscription id: ' + ws.subscription_id, \r\n",
        "#       'Resource group: ' + ws.resource_group, sep='\\n')"
      ],
      "outputs": [],
      "execution_count": 9,
      "metadata": {
        "collapsed": true,
        "jupyter": {
          "source_hidden": false,
          "outputs_hidden": false
        },
        "nteract": {
          "transient": {
            "deleting": false
          }
        },
        "gather": {
          "logged": 1630528190105
        }
      }
    },
    {
      "cell_type": "code",
      "source": [
        "# get_default_datastore returns the default datastore attached to the Workspace\r\n",
        "\r\n",
        "# ds = ws.get_default_datastore()\r\n",
        "\r\n",
        "# Retrieve other registered datastores\r\n",
        "from azureml.core import Datastore, Dataset\r\n",
        "\r\n",
        "ds = Datastore(ws, \"generalpurposeaccount\")\r\n",
        "\r\n",
        "ds.name"
      ],
      "outputs": [
        {
          "output_type": "execute_result",
          "execution_count": 10,
          "data": {
            "text/plain": "'generalpurposeaccount'"
          },
          "metadata": {}
        }
      ],
      "execution_count": 10,
      "metadata": {
        "collapsed": true,
        "jupyter": {
          "source_hidden": false,
          "outputs_hidden": false
        },
        "nteract": {
          "transient": {
            "deleting": false
          }
        },
        "gather": {
          "logged": 1630528190651
        }
      }
    },
    {
      "cell_type": "code",
      "source": [
        "delta_file = Dataset.File.from_files(path = [(ds, '')])"
      ],
      "outputs": [],
      "execution_count": 11,
      "metadata": {
        "collapsed": true,
        "jupyter": {
          "source_hidden": false,
          "outputs_hidden": false
        },
        "nteract": {
          "transient": {
            "deleting": false
          }
        },
        "gather": {
          "logged": 1630528191473
        }
      }
    },
    {
      "cell_type": "code",
      "source": [
        "mount_context = delta_file.mount()\r\n",
        "mount_context.start()\r\n"
      ],
      "outputs": [
        {
          "output_type": "error",
          "ename": "AzureMLException",
          "evalue": "AzureMLException:\n\tMessage: Mount failed unexpectedly due to: Missing required package \"azureml-dataset-runtime[fuse]\", which can be installed by running: \"/anaconda/envs/azureml_py36/bin/python\" -m pip install azureml-dataset-runtime[fuse] --upgrade\n\tInnerException None\n\tErrorResponse \n{\n    \"error\": {\n        \"message\": \"Mount failed unexpectedly due to: Missing required package \\\"azureml-dataset-runtime[fuse]\\\", which can be installed by running: \\\"/anaconda/envs/azureml_py36/bin/python\\\" -m pip install azureml-dataset-runtime[fuse] --upgrade\"\n    }\n}",
          "traceback": [
            "\u001b[0;31m---------------------------------------------------------------------------\u001b[0m",
            "\u001b[0;31mImportError\u001b[0m                               Traceback (most recent call last)",
            "\u001b[0;32m/anaconda/envs/azureml_py36/lib/python3.6/site-packages/azureml/data/_dataprep_helper.py\u001b[0m in \u001b[0;36mdataprep_fuse\u001b[0;34m()\u001b[0m\n\u001b[1;32m     45\u001b[0m     \u001b[0;32mtry\u001b[0m\u001b[0;34m:\u001b[0m\u001b[0;34m\u001b[0m\u001b[0;34m\u001b[0m\u001b[0m\n\u001b[0;32m---> 46\u001b[0;31m         \u001b[0;32mimport\u001b[0m \u001b[0mazureml\u001b[0m\u001b[0;34m.\u001b[0m\u001b[0mdataprep\u001b[0m\u001b[0;34m.\u001b[0m\u001b[0mfuse\u001b[0m\u001b[0;34m.\u001b[0m\u001b[0mdprepfuse\u001b[0m \u001b[0;32mas\u001b[0m \u001b[0m_dprep_fuse\u001b[0m\u001b[0;34m\u001b[0m\u001b[0;34m\u001b[0m\u001b[0m\n\u001b[0m\u001b[1;32m     47\u001b[0m         \u001b[0mcheck_min_version\u001b[0m\u001b[0;34m(\u001b[0m\u001b[0;34m)\u001b[0m\u001b[0;34m\u001b[0m\u001b[0;34m\u001b[0m\u001b[0m\n",
            "\u001b[0;32m/anaconda/envs/azureml_py36/lib/python3.6/site-packages/azureml/dataprep/fuse/dprepfuse.py\u001b[0m in \u001b[0;36m<module>\u001b[0;34m\u001b[0m\n\u001b[1;32m     19\u001b[0m \u001b[0;32mfrom\u001b[0m \u001b[0mazureml\u001b[0m\u001b[0;34m.\u001b[0m\u001b[0mdataprep\u001b[0m\u001b[0;34m.\u001b[0m\u001b[0mnative\u001b[0m \u001b[0;32mimport\u001b[0m \u001b[0mDataPrepError\u001b[0m\u001b[0;34m\u001b[0m\u001b[0;34m\u001b[0m\u001b[0m\n\u001b[0;32m---> 20\u001b[0;31m \u001b[0;32mfrom\u001b[0m \u001b[0mazureml\u001b[0m\u001b[0;34m.\u001b[0m\u001b[0mdataprep\u001b[0m\u001b[0;34m.\u001b[0m\u001b[0mrslex\u001b[0m \u001b[0;32mimport\u001b[0m \u001b[0mCopier\u001b[0m\u001b[0;34m,\u001b[0m \u001b[0mStreamInfo\u001b[0m\u001b[0;34m,\u001b[0m \u001b[0mPyLocationInfo\u001b[0m\u001b[0;34m,\u001b[0m \u001b[0mPyIfDestinationExists\u001b[0m\u001b[0;34m\u001b[0m\u001b[0;34m\u001b[0m\u001b[0m\n\u001b[0m\u001b[1;32m     21\u001b[0m \u001b[0;32mfrom\u001b[0m \u001b[0merrno\u001b[0m \u001b[0;32mimport\u001b[0m \u001b[0mEFBIG\u001b[0m\u001b[0;34m,\u001b[0m \u001b[0mENOENT\u001b[0m\u001b[0;34m\u001b[0m\u001b[0;34m\u001b[0m\u001b[0m\n",
            "\u001b[0;31mImportError\u001b[0m: cannot import name 'Copier'",
            "\nDuring handling of the above exception, another exception occurred:\n",
            "\u001b[0;31mImportError\u001b[0m                               Traceback (most recent call last)",
            "\u001b[0;32m/anaconda/envs/azureml_py36/lib/python3.6/site-packages/azureml/data/file_dataset.py\u001b[0m in \u001b[0;36mmount\u001b[0;34m(self, mount_point, **kwargs)\u001b[0m\n\u001b[1;32m    199\u001b[0m         \"\"\"\n\u001b[0;32m--> 200\u001b[0;31m         \u001b[0;32mtry\u001b[0m\u001b[0;34m:\u001b[0m\u001b[0;34m\u001b[0m\u001b[0;34m\u001b[0m\u001b[0m\n\u001b[0m\u001b[1;32m    201\u001b[0m             \u001b[0mmount\u001b[0m \u001b[0;34m=\u001b[0m \u001b[0mdataprep_fuse\u001b[0m\u001b[0;34m(\u001b[0m\u001b[0;34m)\u001b[0m\u001b[0;34m.\u001b[0m\u001b[0mmount\u001b[0m\u001b[0;34m\u001b[0m\u001b[0;34m\u001b[0m\u001b[0m\n",
            "\u001b[0;32m/anaconda/envs/azureml_py36/lib/python3.6/site-packages/azureml/data/_dataprep_helper.py\u001b[0m in \u001b[0;36mdataprep_fuse\u001b[0;34m()\u001b[0m\n\u001b[1;32m     49\u001b[0m     \u001b[0;32mexcept\u001b[0m \u001b[0mImportError\u001b[0m\u001b[0;34m:\u001b[0m\u001b[0;34m\u001b[0m\u001b[0;34m\u001b[0m\u001b[0m\n\u001b[0;32m---> 50\u001b[0;31m         \u001b[0;32mraise\u001b[0m \u001b[0mImportError\u001b[0m\u001b[0;34m(\u001b[0m\u001b[0mget_dataprep_missing_message\u001b[0m\u001b[0;34m(\u001b[0m\u001b[0mextra\u001b[0m\u001b[0;34m=\u001b[0m\u001b[0;34m'[fuse]'\u001b[0m\u001b[0;34m)\u001b[0m\u001b[0;34m)\u001b[0m\u001b[0;34m\u001b[0m\u001b[0;34m\u001b[0m\u001b[0m\n\u001b[0m\u001b[1;32m     51\u001b[0m \u001b[0;34m\u001b[0m\u001b[0m\n",
            "\u001b[0;31mImportError\u001b[0m: Missing required package \"azureml-dataset-runtime[fuse]\", which can be installed by running: \"/anaconda/envs/azureml_py36/bin/python\" -m pip install azureml-dataset-runtime[fuse] --upgrade",
            "\nDuring handling of the above exception, another exception occurred:\n",
            "\u001b[0;31mAzureMLException\u001b[0m                          Traceback (most recent call last)",
            "\u001b[0;32m<ipython-input-14-504ca28a87bc>\u001b[0m in \u001b[0;36m<module>\u001b[0;34m\u001b[0m\n\u001b[0;32m----> 1\u001b[0;31m \u001b[0mmount_context\u001b[0m \u001b[0;34m=\u001b[0m \u001b[0mdelta_file\u001b[0m\u001b[0;34m.\u001b[0m\u001b[0mmount\u001b[0m\u001b[0;34m(\u001b[0m\u001b[0;34m)\u001b[0m\u001b[0;34m\u001b[0m\u001b[0;34m\u001b[0m\u001b[0m\n\u001b[0m\u001b[1;32m      2\u001b[0m \u001b[0mmount_context\u001b[0m\u001b[0;34m.\u001b[0m\u001b[0mstart\u001b[0m\u001b[0;34m(\u001b[0m\u001b[0;34m)\u001b[0m\u001b[0;34m\u001b[0m\u001b[0;34m\u001b[0m\u001b[0m\n",
            "\u001b[0;32m/anaconda/envs/azureml_py36/lib/python3.6/site-packages/azureml/data/_loggerfactory.py\u001b[0m in \u001b[0;36mwrapper\u001b[0;34m(*args, **kwargs)\u001b[0m\n\u001b[1;32m    127\u001b[0m             \u001b[0;32mwith\u001b[0m \u001b[0m_LoggerFactory\u001b[0m\u001b[0;34m.\u001b[0m\u001b[0mtrack_activity\u001b[0m\u001b[0;34m(\u001b[0m\u001b[0mlogger\u001b[0m\u001b[0;34m,\u001b[0m \u001b[0mfunc\u001b[0m\u001b[0;34m.\u001b[0m\u001b[0m__name__\u001b[0m\u001b[0;34m,\u001b[0m \u001b[0mactivity_type\u001b[0m\u001b[0;34m,\u001b[0m \u001b[0mcustom_dimensions\u001b[0m\u001b[0;34m)\u001b[0m \u001b[0;32mas\u001b[0m \u001b[0mal\u001b[0m\u001b[0;34m:\u001b[0m\u001b[0;34m\u001b[0m\u001b[0;34m\u001b[0m\u001b[0m\n\u001b[1;32m    128\u001b[0m                 \u001b[0;32mtry\u001b[0m\u001b[0;34m:\u001b[0m\u001b[0;34m\u001b[0m\u001b[0;34m\u001b[0m\u001b[0m\n\u001b[0;32m--> 129\u001b[0;31m                     \u001b[0;32mreturn\u001b[0m \u001b[0mfunc\u001b[0m\u001b[0;34m(\u001b[0m\u001b[0;34m*\u001b[0m\u001b[0margs\u001b[0m\u001b[0;34m,\u001b[0m \u001b[0;34m**\u001b[0m\u001b[0mkwargs\u001b[0m\u001b[0;34m)\u001b[0m\u001b[0;34m\u001b[0m\u001b[0;34m\u001b[0m\u001b[0m\n\u001b[0m\u001b[1;32m    130\u001b[0m                 \u001b[0;32mexcept\u001b[0m \u001b[0mException\u001b[0m \u001b[0;32mas\u001b[0m \u001b[0me\u001b[0m\u001b[0;34m:\u001b[0m\u001b[0;34m\u001b[0m\u001b[0;34m\u001b[0m\u001b[0m\n\u001b[1;32m    131\u001b[0m                     \u001b[0;32mif\u001b[0m \u001b[0mhasattr\u001b[0m\u001b[0;34m(\u001b[0m\u001b[0mal\u001b[0m\u001b[0;34m,\u001b[0m \u001b[0;34m'activity_info'\u001b[0m\u001b[0;34m)\u001b[0m \u001b[0;32mand\u001b[0m \u001b[0mhasattr\u001b[0m\u001b[0;34m(\u001b[0m\u001b[0me\u001b[0m\u001b[0;34m,\u001b[0m \u001b[0;34m'error_code'\u001b[0m\u001b[0;34m)\u001b[0m\u001b[0;34m:\u001b[0m\u001b[0;34m\u001b[0m\u001b[0;34m\u001b[0m\u001b[0m\n",
            "\u001b[0;32m/anaconda/envs/azureml_py36/lib/python3.6/site-packages/azureml/data/file_dataset.py\u001b[0m in \u001b[0;36mmount\u001b[0;34m(self, mount_point, **kwargs)\u001b[0m\n\u001b[1;32m    209\u001b[0m                                      \u001b[0;34m'remarks section of FileDataset.mount\\'s documentation. Execution failed'\u001b[0m\u001b[0;34m\u001b[0m\u001b[0;34m\u001b[0m\u001b[0m\n\u001b[1;32m    210\u001b[0m                                      'unexpectedly due to {}'.format(e.__class__.__name__))\n\u001b[0;32m--> 211\u001b[0;31m         \u001b[0;32mexcept\u001b[0m \u001b[0mException\u001b[0m \u001b[0;32mas\u001b[0m \u001b[0me\u001b[0m\u001b[0;34m:\u001b[0m\u001b[0;34m\u001b[0m\u001b[0;34m\u001b[0m\u001b[0m\n\u001b[0m\u001b[1;32m    212\u001b[0m             \u001b[0;32mraise\u001b[0m \u001b[0mAzureMLException\u001b[0m\u001b[0;34m(\u001b[0m\u001b[0;34m\"Mount failed unexpectedly due to: {}\"\u001b[0m\u001b[0;34m.\u001b[0m\u001b[0mformat\u001b[0m\u001b[0;34m(\u001b[0m\u001b[0mstr\u001b[0m\u001b[0;34m(\u001b[0m\u001b[0me\u001b[0m\u001b[0;34m)\u001b[0m\u001b[0;34m)\u001b[0m\u001b[0;34m)\u001b[0m\u001b[0;34m\u001b[0m\u001b[0;34m\u001b[0m\u001b[0m\n\u001b[1;32m    213\u001b[0m \u001b[0;34m\u001b[0m\u001b[0m\n",
            "\u001b[0;31mAzureMLException\u001b[0m: AzureMLException:\n\tMessage: Mount failed unexpectedly due to: Missing required package \"azureml-dataset-runtime[fuse]\", which can be installed by running: \"/anaconda/envs/azureml_py36/bin/python\" -m pip install azureml-dataset-runtime[fuse] --upgrade\n\tInnerException None\n\tErrorResponse \n{\n    \"error\": {\n        \"message\": \"Mount failed unexpectedly due to: Missing required package \\\"azureml-dataset-runtime[fuse]\\\", which can be installed by running: \\\"/anaconda/envs/azureml_py36/bin/python\\\" -m pip install azureml-dataset-runtime[fuse] --upgrade\"\n    }\n}"
          ]
        }
      ],
      "execution_count": 14,
      "metadata": {
        "collapsed": true,
        "jupyter": {
          "source_hidden": false,
          "outputs_hidden": false
        },
        "nteract": {
          "transient": {
            "deleting": false
          }
        },
        "gather": {
          "logged": 1623869832796
        }
      }
    },
    {
      "cell_type": "code",
      "source": [
        "mount_context.mount_point"
      ],
      "outputs": [
        {
          "output_type": "execute_result",
          "execution_count": 38,
          "data": {
            "text/plain": "'/tmp/tmp8mznck9b'"
          },
          "metadata": {}
        }
      ],
      "execution_count": 38,
      "metadata": {
        "collapsed": true,
        "jupyter": {
          "source_hidden": false,
          "outputs_hidden": false
        },
        "nteract": {
          "transient": {
            "deleting": false
          }
        },
        "gather": {
          "logged": 1623869833249
        }
      }
    },
    {
      "cell_type": "code",
      "source": [
        "import os\r\n",
        "os.listdir(mount_context.mount_point)"
      ],
      "outputs": [
        {
          "output_type": "stream",
          "name": "stdout",
          "text": [
            "Failure while loading azureml_run_type_providers. Failed to load entrypoint automl = azureml.train.automl.run:AutoMLRun._from_run_dto with exception (pyarrow 4.0.1 (/anaconda/envs/azureml_py36/lib/python3.6/site-packages), Requirement.parse('pyarrow<2.0.0,>=0.17.0'), {'azureml-dataset-runtime'}).\n"
          ]
        },
        {
          "output_type": "execute_result",
          "execution_count": 39,
          "data": {
            "text/plain": "['temp_delta', 'tweet.py']"
          },
          "metadata": {}
        }
      ],
      "execution_count": 39,
      "metadata": {
        "collapsed": true,
        "jupyter": {
          "source_hidden": false,
          "outputs_hidden": false
        },
        "nteract": {
          "transient": {
            "deleting": false
          }
        },
        "gather": {
          "logged": 1623869836184
        }
      }
    },
    {
      "cell_type": "code",
      "source": [
        "from deltalake import DeltaTable\r\n",
        "\r\n",
        "# Read the Delta Table using the Rust API\r\n",
        "dt = DeltaTable(f\"{mount_context.mount_point}/temp_delta\")\r\n"
      ],
      "outputs": [],
      "execution_count": 13,
      "metadata": {
        "collapsed": true,
        "jupyter": {
          "source_hidden": false,
          "outputs_hidden": false
        },
        "nteract": {
          "transient": {
            "deleting": false
          }
        },
        "gather": {
          "logged": 1630530897804
        }
      }
    },
    {
      "cell_type": "code",
      "source": [
        "type(dt)"
      ],
      "outputs": [
        {
          "output_type": "execute_result",
          "execution_count": 41,
          "data": {
            "text/plain": "deltalake.table.DeltaTable"
          },
          "metadata": {}
        }
      ],
      "execution_count": 41,
      "metadata": {
        "collapsed": true,
        "jupyter": {
          "source_hidden": false,
          "outputs_hidden": false
        },
        "nteract": {
          "transient": {
            "deleting": false
          }
        },
        "gather": {
          "logged": 1623869838330
        }
      }
    },
    {
      "cell_type": "code",
      "source": [
        "dt.files()[0:5]"
      ],
      "outputs": [
        {
          "output_type": "execute_result",
          "execution_count": 42,
          "data": {
            "text/plain": "['part-00000-812e775d-d171-4700-a6ed-70a4118654ba-c000.snappy.parquet']"
          },
          "metadata": {}
        }
      ],
      "execution_count": 42,
      "metadata": {
        "collapsed": true,
        "jupyter": {
          "source_hidden": false,
          "outputs_hidden": false
        },
        "nteract": {
          "transient": {
            "deleting": false
          }
        },
        "gather": {
          "logged": 1623869838532
        }
      }
    },
    {
      "cell_type": "code",
      "source": [
        "py_arrow_tb = dt.to_pyarrow_table()\r\n"
      ],
      "outputs": [],
      "execution_count": 43,
      "metadata": {
        "collapsed": true,
        "jupyter": {
          "source_hidden": false,
          "outputs_hidden": false
        },
        "nteract": {
          "transient": {
            "deleting": false
          }
        },
        "gather": {
          "logged": 1623869848855
        }
      }
    },
    {
      "cell_type": "code",
      "source": [
        "pdf = py_arrow_tb.select(['home_type',\r\n",
        "'address_area',\r\n",
        "'SubCity',\r\n",
        "'PostalCodeNeighborhood',\r\n",
        "'address_neighborhood']).to_pandas(strings_to_categorical=True)"
      ],
      "outputs": [],
      "execution_count": 44,
      "metadata": {
        "collapsed": true,
        "jupyter": {
          "source_hidden": false,
          "outputs_hidden": false
        },
        "nteract": {
          "transient": {
            "deleting": false
          }
        },
        "gather": {
          "logged": 1623869850938
        }
      }
    },
    {
      "cell_type": "code",
      "source": [
        "pdf.shape"
      ],
      "outputs": [
        {
          "output_type": "execute_result",
          "execution_count": 46,
          "data": {
            "text/plain": "(50000, 5)"
          },
          "metadata": {}
        }
      ],
      "execution_count": 46,
      "metadata": {
        "collapsed": true,
        "jupyter": {
          "source_hidden": false,
          "outputs_hidden": false
        },
        "nteract": {
          "transient": {
            "deleting": false
          }
        },
        "gather": {
          "logged": 1623869858975
        }
      }
    },
    {
      "cell_type": "code",
      "source": [
        "pdf.head()"
      ],
      "outputs": [
        {
          "output_type": "execute_result",
          "execution_count": 47,
          "data": {
            "text/plain": "    home_type address_area      SubCity   PostalCodeNeighborhood  \\\n0  commercial      Muskoka  Lake Simcoe  Lake Simcoe North Shore   \n1  commercial      Muskoka  Lake Simcoe  Lake Simcoe North Shore   \n2  commercial      Muskoka  Lake Simcoe  Lake Simcoe North Shore   \n3  commercial         York  Stouffville              Stouffville   \n4  commercial         York  Stouffville              Stouffville   \n\n  address_neighborhood  \n0          Crooked Bay  \n1          Crooked Bay  \n2          Crooked Bay  \n3          Stouffville  \n4          Stouffville  ",
            "text/html": "<div>\n<style scoped>\n    .dataframe tbody tr th:only-of-type {\n        vertical-align: middle;\n    }\n\n    .dataframe tbody tr th {\n        vertical-align: top;\n    }\n\n    .dataframe thead th {\n        text-align: right;\n    }\n</style>\n<table border=\"1\" class=\"dataframe\">\n  <thead>\n    <tr style=\"text-align: right;\">\n      <th></th>\n      <th>home_type</th>\n      <th>address_area</th>\n      <th>SubCity</th>\n      <th>PostalCodeNeighborhood</th>\n      <th>address_neighborhood</th>\n    </tr>\n  </thead>\n  <tbody>\n    <tr>\n      <th>0</th>\n      <td>commercial</td>\n      <td>Muskoka</td>\n      <td>Lake Simcoe</td>\n      <td>Lake Simcoe North Shore</td>\n      <td>Crooked Bay</td>\n    </tr>\n    <tr>\n      <th>1</th>\n      <td>commercial</td>\n      <td>Muskoka</td>\n      <td>Lake Simcoe</td>\n      <td>Lake Simcoe North Shore</td>\n      <td>Crooked Bay</td>\n    </tr>\n    <tr>\n      <th>2</th>\n      <td>commercial</td>\n      <td>Muskoka</td>\n      <td>Lake Simcoe</td>\n      <td>Lake Simcoe North Shore</td>\n      <td>Crooked Bay</td>\n    </tr>\n    <tr>\n      <th>3</th>\n      <td>commercial</td>\n      <td>York</td>\n      <td>Stouffville</td>\n      <td>Stouffville</td>\n      <td>Stouffville</td>\n    </tr>\n    <tr>\n      <th>4</th>\n      <td>commercial</td>\n      <td>York</td>\n      <td>Stouffville</td>\n      <td>Stouffville</td>\n      <td>Stouffville</td>\n    </tr>\n  </tbody>\n</table>\n</div>"
          },
          "metadata": {}
        }
      ],
      "execution_count": 47,
      "metadata": {
        "collapsed": true,
        "jupyter": {
          "source_hidden": false,
          "outputs_hidden": false
        },
        "nteract": {
          "transient": {
            "deleting": false
          }
        },
        "gather": {
          "logged": 1623869866420
        }
      }
    },
    {
      "cell_type": "code",
      "source": [],
      "outputs": [],
      "execution_count": null,
      "metadata": {
        "collapsed": true,
        "jupyter": {
          "source_hidden": false,
          "outputs_hidden": false
        },
        "nteract": {
          "transient": {
            "deleting": false
          }
        }
      }
    }
  ],
  "metadata": {
    "kernelspec": {
      "name": "python3-azureml",
      "language": "python",
      "display_name": "Python 3.6 - AzureML"
    },
    "language_info": {
      "name": "python",
      "version": "3.6.9",
      "mimetype": "text/x-python",
      "codemirror_mode": {
        "name": "ipython",
        "version": 3
      },
      "pygments_lexer": "ipython3",
      "nbconvert_exporter": "python",
      "file_extension": ".py"
    },
    "kernel_info": {
      "name": "python3-azureml"
    },
    "microsoft": {
      "host": {
        "AzureML": {
          "notebookHasBeenCompleted": true
        }
      }
    },
    "nteract": {
      "version": "nteract-front-end@1.0.0"
    }
  },
  "nbformat": 4,
  "nbformat_minor": 2
}