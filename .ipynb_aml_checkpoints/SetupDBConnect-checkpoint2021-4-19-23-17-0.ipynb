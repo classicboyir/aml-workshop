{
  "cells": [
    {
      "cell_type": "code",
      "source": [
        "s"
      ],
      "outputs": [],
      "execution_count": null,
      "metadata": {}
    },
    {
      "cell_type": "code",
      "source": [
        "conda create -n dbconnect_py37 python=3.7\r\n",
        "conda activate dbconnect_py37\r\n",
        "conda install pip\r\n",
        "conda install ipykernel\r\n",
        "python -m ipykernel install --user --name dbconnect_py37 --display-name \"DBConnect 3.7\"\r\n",
        "\r\n",
        " \r\n",
        "\r\n",
        "pip install databricks-connect==7.3.5\r\n",
        "databricks-connect configure"
      ],
      "outputs": [],
      "execution_count": null,
      "metadata": {
        "collapsed": true,
        "jupyter": {
          "source_hidden": false,
          "outputs_hidden": false
        },
        "nteract": {
          "transient": {
            "deleting": false
          }
        }
      }
    }
  ],
  "metadata": {
    "kernelspec": {
      "name": "python3-azureml",
      "language": "python",
      "display_name": "Python 3.6 - AzureML"
    },
    "language_info": {
      "name": "python",
      "version": "3.6.9",
      "mimetype": "text/x-python",
      "codemirror_mode": {
        "name": "ipython",
        "version": 3
      },
      "pygments_lexer": "ipython3",
      "nbconvert_exporter": "python",
      "file_extension": ".py"
    },
    "kernel_info": {
      "name": "python3-azureml"
    },
    "nteract": {
      "version": "nteract-front-end@1.0.0"
    }
  },
  "nbformat": 4,
  "nbformat_minor": 2
}