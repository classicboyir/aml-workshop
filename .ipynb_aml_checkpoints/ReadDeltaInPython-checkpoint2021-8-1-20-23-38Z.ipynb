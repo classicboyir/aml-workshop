{
  "cells": [
    {
      "cell_type": "code",
      "source": [
        "%matplotlib inline\r\n",
        "import numpy as np\r\n",
        "import os\r\n",
        "import matplotlib\r\n",
        "import matplotlib.pyplot as plt\r\n",
        "from azureml.widgets import RunDetails\r\n"
      ],
      "outputs": [],
      "execution_count": 2,
      "metadata": {
        "gather": {
          "logged": 1624478487316
        }
      }
    },
    {
      "cell_type": "code",
      "source": [
        "# Check core SDK version number\r\n",
        "import azureml.core\r\n",
        "from azureml.core import Experiment\r\n",
        "\r\n",
        "print(\"SDK version:\", azureml.core.VERSION)\r\n"
      ],
      "outputs": [
        {
          "output_type": "stream",
          "name": "stdout",
          "text": [
            "SDK version: 1.22.0\n"
          ]
        }
      ],
      "execution_count": 3,
      "metadata": {
        "collapsed": true,
        "jupyter": {
          "source_hidden": false,
          "outputs_hidden": false
        },
        "nteract": {
          "transient": {
            "deleting": false
          }
        },
        "gather": {
          "logged": 1624478487781
        }
      }
    },
    {
      "cell_type": "code",
      "source": [
        "from azureml.core.workspace import Workspace\r\n",
        "\r\n",
        "ws = Workspace.from_config()\r\n",
        "# print('Workspace name: ' + ws.name, \r\n",
        "#       'Azure region: ' + ws.location, \r\n",
        "#       'Subscription id: ' + ws.subscription_id, \r\n",
        "#       'Resource group: ' + ws.resource_group, sep='\\n')"
      ],
      "outputs": [],
      "execution_count": 4,
      "metadata": {
        "collapsed": true,
        "jupyter": {
          "source_hidden": false,
          "outputs_hidden": false
        },
        "nteract": {
          "transient": {
            "deleting": false
          }
        },
        "gather": {
          "logged": 1624478492227
        }
      }
    },
    {
      "cell_type": "code",
      "source": [
        "# get_default_datastore returns the default datastore attached to the Workspace\r\n",
        "\r\n",
        "# ds = ws.get_default_datastore()\r\n",
        "\r\n",
        "# Retrieve other registered datastores\r\n",
        "from azureml.core import Datastore, Dataset\r\n",
        "\r\n",
        "ds = Datastore(ws, \"generalpurposeaccount\")\r\n",
        "\r\n",
        "ds.name"
      ],
      "outputs": [
        {
          "output_type": "execute_result",
          "execution_count": 5,
          "data": {
            "text/plain": "'generalpurposeaccount'"
          },
          "metadata": {}
        }
      ],
      "execution_count": 5,
      "metadata": {
        "collapsed": true,
        "jupyter": {
          "source_hidden": false,
          "outputs_hidden": false
        },
        "nteract": {
          "transient": {
            "deleting": false
          }
        },
        "gather": {
          "logged": 1624478494274
        }
      }
    },
    {
      "cell_type": "code",
      "source": [
        "delta_file = Dataset.File.from_files(path = [(ds, '')])"
      ],
      "outputs": [],
      "execution_count": 6,
      "metadata": {
        "collapsed": true,
        "jupyter": {
          "source_hidden": false,
          "outputs_hidden": false
        },
        "nteract": {
          "transient": {
            "deleting": false
          }
        },
        "gather": {
          "logged": 1624478498393
        }
      }
    },
    {
      "cell_type": "code",
      "source": [
        "mount_context = delta_file.mount()\r\n",
        "mount_context.start()\r\n"
      ],
      "outputs": [],
      "execution_count": 37,
      "metadata": {
        "collapsed": true,
        "jupyter": {
          "source_hidden": false,
          "outputs_hidden": false
        },
        "nteract": {
          "transient": {
            "deleting": false
          }
        },
        "gather": {
          "logged": 1623869832796
        }
      }
    },
    {
      "cell_type": "code",
      "source": [
        "mount_context.mount_point"
      ],
      "outputs": [
        {
          "output_type": "execute_result",
          "execution_count": 38,
          "data": {
            "text/plain": "'/tmp/tmp8mznck9b'"
          },
          "metadata": {}
        }
      ],
      "execution_count": 38,
      "metadata": {
        "collapsed": true,
        "jupyter": {
          "source_hidden": false,
          "outputs_hidden": false
        },
        "nteract": {
          "transient": {
            "deleting": false
          }
        },
        "gather": {
          "logged": 1623869833249
        }
      }
    },
    {
      "cell_type": "code",
      "source": [
        "import os\r\n",
        "os.listdir(mount_context.mount_point)"
      ],
      "outputs": [
        {
          "output_type": "stream",
          "name": "stdout",
          "text": [
            "Failure while loading azureml_run_type_providers. Failed to load entrypoint automl = azureml.train.automl.run:AutoMLRun._from_run_dto with exception (pyarrow 4.0.1 (/anaconda/envs/azureml_py36/lib/python3.6/site-packages), Requirement.parse('pyarrow<2.0.0,>=0.17.0'), {'azureml-dataset-runtime'}).\n"
          ]
        },
        {
          "output_type": "execute_result",
          "execution_count": 39,
          "data": {
            "text/plain": "['temp_delta', 'tweet.py']"
          },
          "metadata": {}
        }
      ],
      "execution_count": 39,
      "metadata": {
        "collapsed": true,
        "jupyter": {
          "source_hidden": false,
          "outputs_hidden": false
        },
        "nteract": {
          "transient": {
            "deleting": false
          }
        },
        "gather": {
          "logged": 1623869836184
        }
      }
    },
    {
      "cell_type": "code",
      "source": [
        "from deltalake import DeltaTable\r\n",
        "\r\n",
        "# Read the Delta Table using the Rust API\r\n",
        "dt = DeltaTable(f\"{mount_context.mount_point}/temp_delta\")\r\n"
      ],
      "outputs": [],
      "execution_count": 40,
      "metadata": {
        "collapsed": true,
        "jupyter": {
          "source_hidden": false,
          "outputs_hidden": false
        },
        "nteract": {
          "transient": {
            "deleting": false
          }
        },
        "gather": {
          "logged": 1623869838138
        }
      }
    },
    {
      "cell_type": "code",
      "source": [
        "type(dt)"
      ],
      "outputs": [
        {
          "output_type": "execute_result",
          "execution_count": 41,
          "data": {
            "text/plain": "deltalake.table.DeltaTable"
          },
          "metadata": {}
        }
      ],
      "execution_count": 41,
      "metadata": {
        "collapsed": true,
        "jupyter": {
          "source_hidden": false,
          "outputs_hidden": false
        },
        "nteract": {
          "transient": {
            "deleting": false
          }
        },
        "gather": {
          "logged": 1623869838330
        }
      }
    },
    {
      "cell_type": "code",
      "source": [
        "dt.files()[0:5]"
      ],
      "outputs": [
        {
          "output_type": "execute_result",
          "execution_count": 42,
          "data": {
            "text/plain": "['part-00000-812e775d-d171-4700-a6ed-70a4118654ba-c000.snappy.parquet']"
          },
          "metadata": {}
        }
      ],
      "execution_count": 42,
      "metadata": {
        "collapsed": true,
        "jupyter": {
          "source_hidden": false,
          "outputs_hidden": false
        },
        "nteract": {
          "transient": {
            "deleting": false
          }
        },
        "gather": {
          "logged": 1623869838532
        }
      }
    },
    {
      "cell_type": "code",
      "source": [
        "py_arrow_tb = dt.to_pyarrow_table()\r\n"
      ],
      "outputs": [],
      "execution_count": 43,
      "metadata": {
        "collapsed": true,
        "jupyter": {
          "source_hidden": false,
          "outputs_hidden": false
        },
        "nteract": {
          "transient": {
            "deleting": false
          }
        },
        "gather": {
          "logged": 1623869848855
        }
      }
    },
    {
      "cell_type": "code",
      "source": [
        "pdf = py_arrow_tb.select(['home_type',\r\n",
        "'address_area',\r\n",
        "'SubCity',\r\n",
        "'PostalCodeNeighborhood',\r\n",
        "'address_neighborhood']).to_pandas(strings_to_categorical=True)"
      ],
      "outputs": [],
      "execution_count": 44,
      "metadata": {
        "collapsed": true,
        "jupyter": {
          "source_hidden": false,
          "outputs_hidden": false
        },
        "nteract": {
          "transient": {
            "deleting": false
          }
        },
        "gather": {
          "logged": 1623869850938
        }
      }
    },
    {
      "cell_type": "code",
      "source": [
        "pdf.shape"
      ],
      "outputs": [
        {
          "output_type": "execute_result",
          "execution_count": 46,
          "data": {
            "text/plain": "(50000, 5)"
          },
          "metadata": {}
        }
      ],
      "execution_count": 46,
      "metadata": {
        "collapsed": true,
        "jupyter": {
          "source_hidden": false,
          "outputs_hidden": false
        },
        "nteract": {
          "transient": {
            "deleting": false
          }
        },
        "gather": {
          "logged": 1623869858975
        }
      }
    },
    {
      "cell_type": "code",
      "source": [
        "pdf.head()"
      ],
      "outputs": [
        {
          "output_type": "execute_result",
          "execution_count": 47,
          "data": {
            "text/plain": "    home_type address_area      SubCity   PostalCodeNeighborhood  \\\n0  commercial      Muskoka  Lake Simcoe  Lake Simcoe North Shore   \n1  commercial      Muskoka  Lake Simcoe  Lake Simcoe North Shore   \n2  commercial      Muskoka  Lake Simcoe  Lake Simcoe North Shore   \n3  commercial         York  Stouffville              Stouffville   \n4  commercial         York  Stouffville              Stouffville   \n\n  address_neighborhood  \n0          Crooked Bay  \n1          Crooked Bay  \n2          Crooked Bay  \n3          Stouffville  \n4          Stouffville  ",
            "text/html": "<div>\n<style scoped>\n    .dataframe tbody tr th:only-of-type {\n        vertical-align: middle;\n    }\n\n    .dataframe tbody tr th {\n        vertical-align: top;\n    }\n\n    .dataframe thead th {\n        text-align: right;\n    }\n</style>\n<table border=\"1\" class=\"dataframe\">\n  <thead>\n    <tr style=\"text-align: right;\">\n      <th></th>\n      <th>home_type</th>\n      <th>address_area</th>\n      <th>SubCity</th>\n      <th>PostalCodeNeighborhood</th>\n      <th>address_neighborhood</th>\n    </tr>\n  </thead>\n  <tbody>\n    <tr>\n      <th>0</th>\n      <td>commercial</td>\n      <td>Muskoka</td>\n      <td>Lake Simcoe</td>\n      <td>Lake Simcoe North Shore</td>\n      <td>Crooked Bay</td>\n    </tr>\n    <tr>\n      <th>1</th>\n      <td>commercial</td>\n      <td>Muskoka</td>\n      <td>Lake Simcoe</td>\n      <td>Lake Simcoe North Shore</td>\n      <td>Crooked Bay</td>\n    </tr>\n    <tr>\n      <th>2</th>\n      <td>commercial</td>\n      <td>Muskoka</td>\n      <td>Lake Simcoe</td>\n      <td>Lake Simcoe North Shore</td>\n      <td>Crooked Bay</td>\n    </tr>\n    <tr>\n      <th>3</th>\n      <td>commercial</td>\n      <td>York</td>\n      <td>Stouffville</td>\n      <td>Stouffville</td>\n      <td>Stouffville</td>\n    </tr>\n    <tr>\n      <th>4</th>\n      <td>commercial</td>\n      <td>York</td>\n      <td>Stouffville</td>\n      <td>Stouffville</td>\n      <td>Stouffville</td>\n    </tr>\n  </tbody>\n</table>\n</div>"
          },
          "metadata": {}
        }
      ],
      "execution_count": 47,
      "metadata": {
        "collapsed": true,
        "jupyter": {
          "source_hidden": false,
          "outputs_hidden": false
        },
        "nteract": {
          "transient": {
            "deleting": false
          }
        },
        "gather": {
          "logged": 1623869866420
        }
      }
    },
    {
      "cell_type": "code",
      "source": [],
      "outputs": [],
      "execution_count": null,
      "metadata": {
        "collapsed": true,
        "jupyter": {
          "source_hidden": false,
          "outputs_hidden": false
        },
        "nteract": {
          "transient": {
            "deleting": false
          }
        }
      }
    }
  ],
  "metadata": {
    "kernelspec": {
      "name": "python3-azureml",
      "language": "python",
      "display_name": "Python 3.6 - AzureML"
    },
    "language_info": {
      "name": "python",
      "version": "3.6.9",
      "mimetype": "text/x-python",
      "codemirror_mode": {
        "name": "ipython",
        "version": 3
      },
      "pygments_lexer": "ipython3",
      "nbconvert_exporter": "python",
      "file_extension": ".py"
    },
    "kernel_info": {
      "name": "python3-azureml"
    },
    "microsoft": {
      "host": {
        "AzureML": {
          "notebookHasBeenCompleted": true
        }
      }
    },
    "nteract": {
      "version": "nteract-front-end@1.0.0"
    }
  },
  "nbformat": 4,
  "nbformat_minor": 2
}