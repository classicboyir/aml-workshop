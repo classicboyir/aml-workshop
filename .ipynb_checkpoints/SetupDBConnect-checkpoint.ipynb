{
 "cells": [
  {
   "cell_type": "markdown",
   "metadata": {
    "gather": {
     "logged": 1621480620629
    }
   },
   "source": [
    "# Use Compute Instance as Development Environment for Databricks\n",
    "\n",
    "In this section, we'll go through the steps needed to setup DB Connect to connect to Databricks from Compute Instance:\n",
    "\n",
    "First step is to run the following commands in the terminal section."
   ]
  },
  {
   "cell_type": "markdown",
   "metadata": {
    "collapsed": true,
    "jupyter": {
     "outputs_hidden": false,
     "source_hidden": false
    },
    "nteract": {
     "transient": {
      "deleting": false
     }
    }
   },
   "source": [
    "```python\n",
    "conda create -n dbconnect_py37 python=3.7\n",
    "conda activate dbconnect_py37\n",
    "conda install pip\n",
    "conda install ipykernel\n",
    "python -m ipykernel install --user --name dbconnect_py37 --display-name \"DBConnect 3.7\"\n",
    "\n",
    "pip install databricks-connect==7.3.5\n",
    "databricks-connect configure\n",
    "```"
   ]
  },
  {
   "cell_type": "markdown",
   "metadata": {},
   "source": [
    "Then, provide the following information in the setup:\n",
    "1. Host: https://adb-5555555555555555.19.azuredatabricks.net/\n",
    "1. Token: From Databricks Workspace User Settings [Generate a personal access token](https://docs.databricks.com/dev-tools/api/latest/authentication.html#generate-a-personal-access-token)\n",
    "1. Cluster ID: from Databricks Workspace Cluster --> Advanced Settings --> Tags (Enter it manually) - `cluster databricks runtime should be 7.3.5`\n",
    "1. Org ID: the part in URL after .net/?o= https://adb-5555555555555555.19.azuredatabricks.net/?o=123...\n",
    "1. Keep the port as-is\n"
   ]
  },
  {
   "cell_type": "markdown",
   "metadata": {},
   "source": [
    "Once the set up is completed, open a new notebook and select `DBConnect 3.7`, **start** the databricks cluster and run the following command.\n",
    "\n",
    "![Hyper parameter tuning](assets/runtime.jpg)"
   ]
  },
  {
   "cell_type": "code",
   "execution_count": 1,
   "metadata": {},
   "outputs": [
    {
     "name": "stdout",
     "output_type": "stream",
     "text": [
      "--2021-05-20 03:42:58--  https://dprepdata.blob.core.windows.net/demo/Titanic.csv\n",
      "Resolving dprepdata.blob.core.windows.net (dprepdata.blob.core.windows.net)... 52.239.160.170\n",
      "Connecting to dprepdata.blob.core.windows.net (dprepdata.blob.core.windows.net)|52.239.160.170|:443... connected.\n",
      "HTTP request sent, awaiting response... 200 OK\n",
      "Length: 61194 (60K) [text/csv]\n",
      "Saving to: ‘./data/Titanic.csv’\n",
      "\n",
      "Titanic.csv         100%[===================>]  59.76K  --.-KB/s    in 0.01s   \n",
      "\n",
      "2021-05-20 03:42:58 (4.33 MB/s) - ‘./data/Titanic.csv’ saved [61194/61194]\n",
      "\n"
     ]
    }
   ],
   "source": [
    "! wget -P ./data https://dprepdata.blob.core.windows.net/demo/Titanic.csv"
   ]
  },
  {
   "cell_type": "code",
   "execution_count": 2,
   "metadata": {},
   "outputs": [],
   "source": [
    "from pyspark.sql import SparkSession\n",
    "spark = SparkSession.builder.getOrCreate()"
   ]
  },
  {
   "cell_type": "code",
   "execution_count": null,
   "metadata": {},
   "outputs": [],
   "source": [
    "import pandas as pd\n",
    "pdf_titanic_csv = pd.read_csv('./data/Titanic.csv')"
   ]
  },
  {
   "cell_type": "code",
   "execution_count": null,
   "metadata": {},
   "outputs": [],
   "source": [
    "df = spark.createDataFrame(pdf_titanic_csv)"
   ]
  },
  {
   "cell_type": "code",
   "execution_count": null,
   "metadata": {},
   "outputs": [],
   "source": [
    "df.show()"
   ]
  },
  {
   "cell_type": "code",
   "execution_count": null,
   "metadata": {},
   "outputs": [],
   "source": []
  }
 ],
 "metadata": {
  "kernel_info": {
   "name": "python3-azureml"
  },
  "kernelspec": {
   "display_name": "DB Connect",
   "language": "python",
   "name": "dbconnect_py37"
  },
  "nteract": {
   "version": "nteract-front-end@1.0.0"
  }
 },
 "nbformat": 4,
 "nbformat_minor": 2
}
